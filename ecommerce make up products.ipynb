{
  "nbformat": 4,
  "nbformat_minor": 0,
  "metadata": {
    "colab": {
      "name": "Untitled16.ipynb",
      "provenance": []
    },
    "kernelspec": {
      "name": "python3",
      "display_name": "Python 3"
    },
    "language_info": {
      "name": "python"
    }
  },
  "cells": [
    {
      "cell_type": "code",
      "metadata": {
        "id": "j68-prCpbLwj"
      },
      "source": [
        "import pandas as pd\n",
        "import numpy as np\n",
        "import seaborn as sns\n",
        "import matplotlib.pyplot as plt"
      ],
      "execution_count": 1,
      "outputs": []
    },
    {
      "cell_type": "code",
      "metadata": {
        "id": "ENhcg2bObmeJ"
      },
      "source": [
        "product = pd.read_csv(\"trans1.csv\")"
      ],
      "execution_count": 2,
      "outputs": []
    },
    {
      "cell_type": "code",
      "metadata": {
        "colab": {
          "base_uri": "https://localhost:8080/",
          "height": 289
        },
        "id": "8leXQI0EbvJ6",
        "outputId": "fedf10e2-da7a-4950-b03e-4f7ca679ef74"
      },
      "source": [
        "product.head()"
      ],
      "execution_count": 3,
      "outputs": [
        {
          "output_type": "execute_result",
          "data": {
            "text/html": [
              "<div>\n",
              "<style scoped>\n",
              "    .dataframe tbody tr th:only-of-type {\n",
              "        vertical-align: middle;\n",
              "    }\n",
              "\n",
              "    .dataframe tbody tr th {\n",
              "        vertical-align: top;\n",
              "    }\n",
              "\n",
              "    .dataframe thead th {\n",
              "        text-align: right;\n",
              "    }\n",
              "</style>\n",
              "<table border=\"1\" class=\"dataframe\">\n",
              "  <thead>\n",
              "    <tr style=\"text-align: right;\">\n",
              "      <th></th>\n",
              "      <th>name</th>\n",
              "      <th>brand</th>\n",
              "      <th>ratingScore</th>\n",
              "      <th>rating</th>\n",
              "      <th>reviews</th>\n",
              "      <th>reviews - Copy</th>\n",
              "      <th>price</th>\n",
              "    </tr>\n",
              "  </thead>\n",
              "  <tbody>\n",
              "    <tr>\n",
              "      <th>0</th>\n",
              "      <td>Generic Fashion 10Pcs Professional Makeup Brus...</td>\n",
              "      <td>Generic</td>\n",
              "      <td>0.0</td>\n",
              "      <td>0 out of 5</td>\n",
              "      <td>0</td>\n",
              "      <td>(No ratings available)</td>\n",
              "      <td>840</td>\n",
              "    </tr>\n",
              "    <tr>\n",
              "      <th>1</th>\n",
              "      <td>Generic Fashion 12Pcs Makeup Brushes Foundatio...</td>\n",
              "      <td>Generic</td>\n",
              "      <td>0.0</td>\n",
              "      <td>0 out of 5</td>\n",
              "      <td>0</td>\n",
              "      <td>(No ratings available)</td>\n",
              "      <td>640</td>\n",
              "    </tr>\n",
              "    <tr>\n",
              "      <th>2</th>\n",
              "      <td>Brush Double Sided Flat Angled Brush With Spoo...</td>\n",
              "      <td>Brush</td>\n",
              "      <td>0.0</td>\n",
              "      <td>0 out of 5</td>\n",
              "      <td>0</td>\n",
              "      <td>(No ratings available)</td>\n",
              "      <td>223</td>\n",
              "    </tr>\n",
              "    <tr>\n",
              "      <th>3</th>\n",
              "      <td>Generic 5 Pairs False Eyelashes Mixed Style &amp; ...</td>\n",
              "      <td>Generic</td>\n",
              "      <td>0.0</td>\n",
              "      <td>0 out of 5</td>\n",
              "      <td>0</td>\n",
              "      <td>(No ratings available)</td>\n",
              "      <td>429</td>\n",
              "    </tr>\n",
              "    <tr>\n",
              "      <th>4</th>\n",
              "      <td>Estee Lauder Perfectly Clean TripleAction Clea...</td>\n",
              "      <td>Estee Lauder</td>\n",
              "      <td>0.0</td>\n",
              "      <td>0 out of 5</td>\n",
              "      <td>0</td>\n",
              "      <td>(No ratings available)</td>\n",
              "      <td>5200</td>\n",
              "    </tr>\n",
              "  </tbody>\n",
              "</table>\n",
              "</div>"
            ],
            "text/plain": [
              "                                                name  ... price\n",
              "0  Generic Fashion 10Pcs Professional Makeup Brus...  ...   840\n",
              "1  Generic Fashion 12Pcs Makeup Brushes Foundatio...  ...   640\n",
              "2  Brush Double Sided Flat Angled Brush With Spoo...  ...   223\n",
              "3  Generic 5 Pairs False Eyelashes Mixed Style & ...  ...   429\n",
              "4  Estee Lauder Perfectly Clean TripleAction Clea...  ...  5200\n",
              "\n",
              "[5 rows x 7 columns]"
            ]
          },
          "metadata": {
            "tags": []
          },
          "execution_count": 3
        }
      ]
    },
    {
      "cell_type": "code",
      "metadata": {
        "colab": {
          "base_uri": "https://localhost:8080/",
          "height": 350
        },
        "id": "VKUTFeSmbxc2",
        "outputId": "5d21dc10-6904-4de3-9e1c-dd1b80d53ba8"
      },
      "source": [
        "sns.countplot(product['ratingScore'],data=product)"
      ],
      "execution_count": 15,
      "outputs": [
        {
          "output_type": "stream",
          "text": [
            "/usr/local/lib/python3.7/dist-packages/seaborn/_decorators.py:43: FutureWarning: Pass the following variable as a keyword arg: x. From version 0.12, the only valid positional argument will be `data`, and passing other arguments without an explicit keyword will result in an error or misinterpretation.\n",
            "  FutureWarning\n"
          ],
          "name": "stderr"
        },
        {
          "output_type": "execute_result",
          "data": {
            "text/plain": [
              "<matplotlib.axes._subplots.AxesSubplot at 0x7f2ecf4d1690>"
            ]
          },
          "metadata": {
            "tags": []
          },
          "execution_count": 15
        },
        {
          "output_type": "display_data",
          "data": {
            "image/png": "[encoded data removed]",
            "text/plain": [
              "<Figure size 432x288 with 1 Axes>"
            ]
          },
          "metadata": {
            "tags": [],
            "needs_background": "light"
          }
        }
      ]
    },
    {
      "cell_type": "code",
      "metadata": {
        "colab": {
          "base_uri": "https://localhost:8080/"
        },
        "id": "i0Wx62NgcZIf",
        "outputId": "2c41b5ac-906e-497b-e5da-62abd6d8f9cb"
      },
      "source": [
        "#categorical columns\n",
        "product['brand'].value_counts()"
      ],
      "execution_count": 13,
      "outputs": [
        {
          "output_type": "execute_result",
          "data": {
            "text/plain": [
              "Generic             99\n",
              "Fashion             58\n",
              "Eye                  7\n",
              "Kiss Beauty          6\n",
              "Tinkle               4\n",
              "Estee Lauder         3\n",
              "Kabuki               2\n",
              "Makeup               2\n",
              "YSDO                 1\n",
              "Beauty Blender       1\n",
              "Zaron                1\n",
              "Huddah Cosmetics     1\n",
              "Professional         1\n",
              "Cerave               1\n",
              "Keli                 1\n",
              "Miniso               1\n",
              "Technic              1\n",
              "Nano                 1\n",
              "Tippys               1\n",
              "Lux Premiums         1\n",
              "Kiini                1\n",
              "Neutrogena           1\n",
              "NIVEA                1\n",
              "Foundation           1\n",
              "Brush                1\n",
              "Nova                 1\n",
              "Hanan                1\n",
              "Name: brand, dtype: int64"
            ]
          },
          "metadata": {
            "tags": []
          },
          "execution_count": 13
        }
      ]
    },
    {
      "cell_type": "code",
      "metadata": {
        "colab": {
          "base_uri": "https://localhost:8080/",
          "height": 555
        },
        "id": "6yGZZzGAhFke",
        "outputId": "1802f9ca-1651-4b53-bb92-be1d6565049b"
      },
      "source": [
        "#data[data.density > 100]\n",
        "prod1 = product[product.ratingScore<3]\n",
        "prod1"
      ],
      "execution_count": 37,
      "outputs": [
        {
          "output_type": "execute_result",
          "data": {
            "text/html": [
              "<div>\n",
              "<style scoped>\n",
              "    .dataframe tbody tr th:only-of-type {\n",
              "        vertical-align: middle;\n",
              "    }\n",
              "\n",
              "    .dataframe tbody tr th {\n",
              "        vertical-align: top;\n",
              "    }\n",
              "\n",
              "    .dataframe thead th {\n",
              "        text-align: right;\n",
              "    }\n",
              "</style>\n",
              "<table border=\"1\" class=\"dataframe\">\n",
              "  <thead>\n",
              "    <tr style=\"text-align: right;\">\n",
              "      <th></th>\n",
              "      <th>name</th>\n",
              "      <th>brand</th>\n",
              "      <th>ratingScore</th>\n",
              "      <th>rating</th>\n",
              "      <th>reviews</th>\n",
              "      <th>reviews - Copy</th>\n",
              "      <th>price</th>\n",
              "    </tr>\n",
              "  </thead>\n",
              "  <tbody>\n",
              "    <tr>\n",
              "      <th>0</th>\n",
              "      <td>Generic Fashion 10Pcs Professional Makeup Brus...</td>\n",
              "      <td>Generic</td>\n",
              "      <td>0.0</td>\n",
              "      <td>0 out of 5</td>\n",
              "      <td>0</td>\n",
              "      <td>(No ratings available)</td>\n",
              "      <td>840</td>\n",
              "    </tr>\n",
              "    <tr>\n",
              "      <th>1</th>\n",
              "      <td>Generic Fashion 12Pcs Makeup Brushes Foundatio...</td>\n",
              "      <td>Generic</td>\n",
              "      <td>0.0</td>\n",
              "      <td>0 out of 5</td>\n",
              "      <td>0</td>\n",
              "      <td>(No ratings available)</td>\n",
              "      <td>640</td>\n",
              "    </tr>\n",
              "    <tr>\n",
              "      <th>2</th>\n",
              "      <td>Brush Double Sided Flat Angled Brush With Spoo...</td>\n",
              "      <td>Brush</td>\n",
              "      <td>0.0</td>\n",
              "      <td>0 out of 5</td>\n",
              "      <td>0</td>\n",
              "      <td>(No ratings available)</td>\n",
              "      <td>223</td>\n",
              "    </tr>\n",
              "    <tr>\n",
              "      <th>3</th>\n",
              "      <td>Generic 5 Pairs False Eyelashes Mixed Style &amp; ...</td>\n",
              "      <td>Generic</td>\n",
              "      <td>0.0</td>\n",
              "      <td>0 out of 5</td>\n",
              "      <td>0</td>\n",
              "      <td>(No ratings available)</td>\n",
              "      <td>429</td>\n",
              "    </tr>\n",
              "    <tr>\n",
              "      <th>4</th>\n",
              "      <td>Estee Lauder Perfectly Clean TripleAction Clea...</td>\n",
              "      <td>Estee Lauder</td>\n",
              "      <td>0.0</td>\n",
              "      <td>0 out of 5</td>\n",
              "      <td>0</td>\n",
              "      <td>(No ratings available)</td>\n",
              "      <td>5200</td>\n",
              "    </tr>\n",
              "    <tr>\n",
              "      <th>...</th>\n",
              "      <td>...</td>\n",
              "      <td>...</td>\n",
              "      <td>...</td>\n",
              "      <td>...</td>\n",
              "      <td>...</td>\n",
              "      <td>...</td>\n",
              "      <td>...</td>\n",
              "    </tr>\n",
              "    <tr>\n",
              "      <th>77</th>\n",
              "      <td>Generic Fashion LED Light Makeup Mirror Table ...</td>\n",
              "      <td>Generic</td>\n",
              "      <td>0.0</td>\n",
              "      <td>0 out of 5</td>\n",
              "      <td>0</td>\n",
              "      <td>(No ratings available)</td>\n",
              "      <td>1251</td>\n",
              "    </tr>\n",
              "    <tr>\n",
              "      <th>78</th>\n",
              "      <td>Generic 2pcs Soft Bristles Wave Hair Brush For...</td>\n",
              "      <td>Generic</td>\n",
              "      <td>0.0</td>\n",
              "      <td>0 out of 5</td>\n",
              "      <td>0</td>\n",
              "      <td>(No ratings available)</td>\n",
              "      <td>1119</td>\n",
              "    </tr>\n",
              "    <tr>\n",
              "      <th>128</th>\n",
              "      <td>Generic Women Waterproof Wash Makeup Storage B...</td>\n",
              "      <td>Generic</td>\n",
              "      <td>2.5</td>\n",
              "      <td>2.5 out of 5</td>\n",
              "      <td>2</td>\n",
              "      <td>(2 ratings)</td>\n",
              "      <td>566</td>\n",
              "    </tr>\n",
              "    <tr>\n",
              "      <th>177</th>\n",
              "      <td>Generic 5 In 1 Electric Facial Cleansing Brush</td>\n",
              "      <td>Generic</td>\n",
              "      <td>1.0</td>\n",
              "      <td>1 out of 5</td>\n",
              "      <td>1</td>\n",
              "      <td>(1 rating)</td>\n",
              "      <td>749</td>\n",
              "    </tr>\n",
              "    <tr>\n",
              "      <th>191</th>\n",
              "      <td>Fashion Mini Portable Eyelash Curler -White</td>\n",
              "      <td>Fashion</td>\n",
              "      <td>2.0</td>\n",
              "      <td>2 out of 5</td>\n",
              "      <td>1</td>\n",
              "      <td>(1 rating)</td>\n",
              "      <td>215</td>\n",
              "    </tr>\n",
              "  </tbody>\n",
              "</table>\n",
              "<p>82 rows × 7 columns</p>\n",
              "</div>"
            ],
            "text/plain": [
              "                                                  name  ... price\n",
              "0    Generic Fashion 10Pcs Professional Makeup Brus...  ...   840\n",
              "1    Generic Fashion 12Pcs Makeup Brushes Foundatio...  ...   640\n",
              "2    Brush Double Sided Flat Angled Brush With Spoo...  ...   223\n",
              "3    Generic 5 Pairs False Eyelashes Mixed Style & ...  ...   429\n",
              "4    Estee Lauder Perfectly Clean TripleAction Clea...  ...  5200\n",
              "..                                                 ...  ...   ...\n",
              "77   Generic Fashion LED Light Makeup Mirror Table ...  ...  1251\n",
              "78   Generic 2pcs Soft Bristles Wave Hair Brush For...  ...  1119\n",
              "128  Generic Women Waterproof Wash Makeup Storage B...  ...   566\n",
              "177     Generic 5 In 1 Electric Facial Cleansing Brush  ...   749\n",
              "191        Fashion Mini Portable Eyelash Curler -White  ...   215\n",
              "\n",
              "[82 rows x 7 columns]"
            ]
          },
          "metadata": {
            "tags": []
          },
          "execution_count": 37
        }
      ]
    },
    {
      "cell_type": "code",
      "metadata": {
        "colab": {
          "base_uri": "https://localhost:8080/",
          "height": 589
        },
        "id": "GzBpq0T3nBjJ",
        "outputId": "ec3e0e3c-b2ee-4617-b42f-c1162fa770c0"
      },
      "source": [
        "prod2 = product[product.ratingScore>4]\n",
        "prod2"
      ],
      "execution_count": 33,
      "outputs": [
        {
          "output_type": "execute_result",
          "data": {
            "text/html": [
              "<div>\n",
              "<style scoped>\n",
              "    .dataframe tbody tr th:only-of-type {\n",
              "        vertical-align: middle;\n",
              "    }\n",
              "\n",
              "    .dataframe tbody tr th {\n",
              "        vertical-align: top;\n",
              "    }\n",
              "\n",
              "    .dataframe thead th {\n",
              "        text-align: right;\n",
              "    }\n",
              "</style>\n",
              "<table border=\"1\" class=\"dataframe\">\n",
              "  <thead>\n",
              "    <tr style=\"text-align: right;\">\n",
              "      <th></th>\n",
              "      <th>name</th>\n",
              "      <th>brand</th>\n",
              "      <th>ratingScore</th>\n",
              "      <th>rating</th>\n",
              "      <th>reviews</th>\n",
              "      <th>reviews - Copy</th>\n",
              "      <th>price</th>\n",
              "    </tr>\n",
              "  </thead>\n",
              "  <tbody>\n",
              "    <tr>\n",
              "      <th>79</th>\n",
              "      <td>Tinkle Eyebrow Shaper Facial Hairs Razor - 3 P...</td>\n",
              "      <td>Tinkle</td>\n",
              "      <td>4.2</td>\n",
              "      <td>4.2 out of 5</td>\n",
              "      <td>11</td>\n",
              "      <td>(11 ratings)</td>\n",
              "      <td>181</td>\n",
              "    </tr>\n",
              "    <tr>\n",
              "      <th>80</th>\n",
              "      <td>Keli 7 In 1 Bag Powder Puff Makeup Sponge Blender</td>\n",
              "      <td>Keli</td>\n",
              "      <td>4.2</td>\n",
              "      <td>4.2 out of 5</td>\n",
              "      <td>5</td>\n",
              "      <td>(5 ratings)</td>\n",
              "      <td>300</td>\n",
              "    </tr>\n",
              "    <tr>\n",
              "      <th>81</th>\n",
              "      <td>Generic False Eyelashes Set 5 Pairs Styles 3D ...</td>\n",
              "      <td>Generic</td>\n",
              "      <td>4.6</td>\n",
              "      <td>4.6 out of 5</td>\n",
              "      <td>71</td>\n",
              "      <td>(71 ratings)</td>\n",
              "      <td>329</td>\n",
              "    </tr>\n",
              "    <tr>\n",
              "      <th>82</th>\n",
              "      <td>Fashion 12Pcs Makeup Brushes Set With Free Org...</td>\n",
              "      <td>Fashion</td>\n",
              "      <td>4.3</td>\n",
              "      <td>4.3 out of 5</td>\n",
              "      <td>324</td>\n",
              "      <td>(324 ratings)</td>\n",
              "      <td>687</td>\n",
              "    </tr>\n",
              "    <tr>\n",
              "      <th>83</th>\n",
              "      <td>Fashion 10 Pcs Makeup Brushes Cosmetics Tools ...</td>\n",
              "      <td>Fashion</td>\n",
              "      <td>4.5</td>\n",
              "      <td>4.5 out of 5</td>\n",
              "      <td>101</td>\n",
              "      <td>(101 ratings)</td>\n",
              "      <td>879</td>\n",
              "    </tr>\n",
              "    <tr>\n",
              "      <th>...</th>\n",
              "      <td>...</td>\n",
              "      <td>...</td>\n",
              "      <td>...</td>\n",
              "      <td>...</td>\n",
              "      <td>...</td>\n",
              "      <td>...</td>\n",
              "      <td>...</td>\n",
              "    </tr>\n",
              "    <tr>\n",
              "      <th>189</th>\n",
              "      <td>NIVEA Micellar Water  All  Skin Types - 100ml</td>\n",
              "      <td>NIVEA</td>\n",
              "      <td>4.5</td>\n",
              "      <td>4.5 out of 5</td>\n",
              "      <td>4</td>\n",
              "      <td>(4 ratings)</td>\n",
              "      <td>298</td>\n",
              "    </tr>\n",
              "    <tr>\n",
              "      <th>192</th>\n",
              "      <td>Fashion 32pcs Makeup Brushes Set Make Up Brush...</td>\n",
              "      <td>Fashion</td>\n",
              "      <td>5.0</td>\n",
              "      <td>5 out of 5</td>\n",
              "      <td>1</td>\n",
              "      <td>(1 rating)</td>\n",
              "      <td>1257</td>\n",
              "    </tr>\n",
              "    <tr>\n",
              "      <th>194</th>\n",
              "      <td>Fashion Cosmetic Bag Cosmetic Holder Lipstick ...</td>\n",
              "      <td>Fashion</td>\n",
              "      <td>4.8</td>\n",
              "      <td>4.8 out of 5</td>\n",
              "      <td>4</td>\n",
              "      <td>(4 ratings)</td>\n",
              "      <td>699</td>\n",
              "    </tr>\n",
              "    <tr>\n",
              "      <th>196</th>\n",
              "      <td>Generic Makeup bag  Women Bags Men Large Water...</td>\n",
              "      <td>Generic</td>\n",
              "      <td>5.0</td>\n",
              "      <td>5 out of 5</td>\n",
              "      <td>1</td>\n",
              "      <td>(1 rating)</td>\n",
              "      <td>1754</td>\n",
              "    </tr>\n",
              "    <tr>\n",
              "      <th>199</th>\n",
              "      <td>Generic Waterproof Zipper Coin Purse And Cute ...</td>\n",
              "      <td>Generic</td>\n",
              "      <td>5.0</td>\n",
              "      <td>5 out of 5</td>\n",
              "      <td>1</td>\n",
              "      <td>(1 rating)</td>\n",
              "      <td>509</td>\n",
              "    </tr>\n",
              "  </tbody>\n",
              "</table>\n",
              "<p>91 rows × 7 columns</p>\n",
              "</div>"
            ],
            "text/plain": [
              "                                                  name  ... price\n",
              "79   Tinkle Eyebrow Shaper Facial Hairs Razor - 3 P...  ...   181\n",
              "80   Keli 7 In 1 Bag Powder Puff Makeup Sponge Blender  ...   300\n",
              "81   Generic False Eyelashes Set 5 Pairs Styles 3D ...  ...   329\n",
              "82   Fashion 12Pcs Makeup Brushes Set With Free Org...  ...   687\n",
              "83   Fashion 10 Pcs Makeup Brushes Cosmetics Tools ...  ...   879\n",
              "..                                                 ...  ...   ...\n",
              "189      NIVEA Micellar Water  All  Skin Types - 100ml  ...   298\n",
              "192  Fashion 32pcs Makeup Brushes Set Make Up Brush...  ...  1257\n",
              "194  Fashion Cosmetic Bag Cosmetic Holder Lipstick ...  ...   699\n",
              "196  Generic Makeup bag  Women Bags Men Large Water...  ...  1754\n",
              "199  Generic Waterproof Zipper Coin Purse And Cute ...  ...   509\n",
              "\n",
              "[91 rows x 7 columns]"
            ]
          },
          "metadata": {
            "tags": []
          },
          "execution_count": 33
        }
      ]
    },
    {
      "cell_type": "code",
      "metadata": {
        "colab": {
          "base_uri": "https://localhost:8080/",
          "height": 312
        },
        "id": "ybXZwfvcmfcD",
        "outputId": "2786f6b7-93df-46fc-fd3d-214171bcce77"
      },
      "source": [
        "plt.figure()\n",
        "sns.barplot(x = prod1['ratingScore'], y = prod1['price'])\n",
        "plt.ylabel('Price of makeup')\n",
        "plt.title('price against rating score')"
      ],
      "execution_count": 38,
      "outputs": [
        {
          "output_type": "execute_result",
          "data": {
            "text/plain": [
              "Text(0.5, 1.0, 'price against rating score')"
            ]
          },
          "metadata": {
            "tags": []
          },
          "execution_count": 38
        },
        {
          "output_type": "display_data",
          "data": {
            "image/png": "[encoded data removed]",
            "text/plain": [
              "<Figure size 432x288 with 1 Axes>"
            ]
          },
          "metadata": {
            "tags": [],
            "needs_background": "light"
          }
        }
      ]
    },
    {
      "cell_type": "code",
      "metadata": {
        "colab": {
          "base_uri": "https://localhost:8080/",
          "height": 312
        },
        "id": "NSxJedeunAQx",
        "outputId": "f1bcbb9f-b18c-4403-c6a4-93414048cb90"
      },
      "source": [
        "plt.figure()\n",
        "sns.barplot(x = prod2['ratingScore'], y = prod2['price'])\n",
        "plt.ylabel('Price of makeup')\n",
        "plt.title('price against rating score')"
      ],
      "execution_count": 34,
      "outputs": [
        {
          "output_type": "execute_result",
          "data": {
            "text/plain": [
              "Text(0.5, 1.0, 'price against rating score')"
            ]
          },
          "metadata": {
            "tags": []
          },
          "execution_count": 34
        },
        {
          "output_type": "display_data",
          "data": {
            "image/png": "[encoded data removed]",
            "text/plain": [
              "<Figure size 432x288 with 1 Axes>"
            ]
          },
          "metadata": {
            "tags": [],
            "needs_background": "light"
          }
        }
      ]
    },
    {
      "cell_type": "markdown",
      "metadata": {
        "id": "7pmfYVXlokOT"
      },
      "source": [
        "\n",
        "\n",
        "*   Looks like the most expensive make up product have no ratings - so price is a major factor on the ecommerce site. Higher prices on a product would cause customer to look for an alternative cheaper product.\n",
        "*   The highest rating score products have a fair price of KSH 800.\n",
        "*   Lowest or no ranking have a high price of ksh 1150, this could also mean that the product is rarely purchased under this category of makeup.\n",
        "\n",
        "\n",
        "\n",
        "\n"
      ]
    },
    {
      "cell_type": "code",
      "metadata": {
        "colab": {
          "base_uri": "https://localhost:8080/",
          "height": 498
        },
        "id": "Oeob2hYDqKNE",
        "outputId": "0d59f59a-0afd-4936-82a7-690fa4870250"
      },
      "source": [
        "prod3 = product[product.reviews>37]\n",
        "prod3"
      ],
      "execution_count": 42,
      "outputs": [
        {
          "output_type": "execute_result",
          "data": {
            "text/html": [
              "<div>\n",
              "<style scoped>\n",
              "    .dataframe tbody tr th:only-of-type {\n",
              "        vertical-align: middle;\n",
              "    }\n",
              "\n",
              "    .dataframe tbody tr th {\n",
              "        vertical-align: top;\n",
              "    }\n",
              "\n",
              "    .dataframe thead th {\n",
              "        text-align: right;\n",
              "    }\n",
              "</style>\n",
              "<table border=\"1\" class=\"dataframe\">\n",
              "  <thead>\n",
              "    <tr style=\"text-align: right;\">\n",
              "      <th></th>\n",
              "      <th>name</th>\n",
              "      <th>brand</th>\n",
              "      <th>ratingScore</th>\n",
              "      <th>rating</th>\n",
              "      <th>reviews</th>\n",
              "      <th>reviews - Copy</th>\n",
              "      <th>price</th>\n",
              "    </tr>\n",
              "  </thead>\n",
              "  <tbody>\n",
              "    <tr>\n",
              "      <th>81</th>\n",
              "      <td>Generic False Eyelashes Set 5 Pairs Styles 3D ...</td>\n",
              "      <td>Generic</td>\n",
              "      <td>4.6</td>\n",
              "      <td>4.6 out of 5</td>\n",
              "      <td>71</td>\n",
              "      <td>(71 ratings)</td>\n",
              "      <td>329</td>\n",
              "    </tr>\n",
              "    <tr>\n",
              "      <th>82</th>\n",
              "      <td>Fashion 12Pcs Makeup Brushes Set With Free Org...</td>\n",
              "      <td>Fashion</td>\n",
              "      <td>4.3</td>\n",
              "      <td>4.3 out of 5</td>\n",
              "      <td>324</td>\n",
              "      <td>(324 ratings)</td>\n",
              "      <td>687</td>\n",
              "    </tr>\n",
              "    <tr>\n",
              "      <th>83</th>\n",
              "      <td>Fashion 10 Pcs Makeup Brushes Cosmetics Tools ...</td>\n",
              "      <td>Fashion</td>\n",
              "      <td>4.5</td>\n",
              "      <td>4.5 out of 5</td>\n",
              "      <td>101</td>\n",
              "      <td>(101 ratings)</td>\n",
              "      <td>879</td>\n",
              "    </tr>\n",
              "    <tr>\n",
              "      <th>84</th>\n",
              "      <td>Generic Reusable Natural Magnetic False Eyelas...</td>\n",
              "      <td>Generic</td>\n",
              "      <td>4.5</td>\n",
              "      <td>4.5 out of 5</td>\n",
              "      <td>41</td>\n",
              "      <td>(41 ratings)</td>\n",
              "      <td>699</td>\n",
              "    </tr>\n",
              "    <tr>\n",
              "      <th>85</th>\n",
              "      <td>Fashion Makeup Sponge Beauty Blender Foundatio...</td>\n",
              "      <td>Fashion</td>\n",
              "      <td>4.7</td>\n",
              "      <td>4.7 out of 5</td>\n",
              "      <td>172</td>\n",
              "      <td>(172 ratings)</td>\n",
              "      <td>359</td>\n",
              "    </tr>\n",
              "    <tr>\n",
              "      <th>99</th>\n",
              "      <td>Generic Make Up Brushes 7 Pcs / Make Up Brush Set</td>\n",
              "      <td>Generic</td>\n",
              "      <td>3.7</td>\n",
              "      <td>3.7 out of 5</td>\n",
              "      <td>48</td>\n",
              "      <td>(48 ratings)</td>\n",
              "      <td>350</td>\n",
              "    </tr>\n",
              "    <tr>\n",
              "      <th>114</th>\n",
              "      <td>Fashion 10 Pcs Makeup Brushes Set &amp; Free Beaut...</td>\n",
              "      <td>Fashion</td>\n",
              "      <td>4.3</td>\n",
              "      <td>4.3 out of 5</td>\n",
              "      <td>51</td>\n",
              "      <td>(51 ratings)</td>\n",
              "      <td>879</td>\n",
              "    </tr>\n",
              "    <tr>\n",
              "      <th>130</th>\n",
              "      <td>Nova New Rechargeable Hair Shaver And Beard Tr...</td>\n",
              "      <td>Nova</td>\n",
              "      <td>4.1</td>\n",
              "      <td>4.1 out of 5</td>\n",
              "      <td>126</td>\n",
              "      <td>(126 ratings)</td>\n",
              "      <td>664</td>\n",
              "    </tr>\n",
              "    <tr>\n",
              "      <th>171</th>\n",
              "      <td>Makeup Setting Spray Snail Gel 99% Make Up Fix...</td>\n",
              "      <td>Makeup</td>\n",
              "      <td>4.3</td>\n",
              "      <td>4.3 out of 5</td>\n",
              "      <td>43</td>\n",
              "      <td>(43 ratings)</td>\n",
              "      <td>400</td>\n",
              "    </tr>\n",
              "  </tbody>\n",
              "</table>\n",
              "</div>"
            ],
            "text/plain": [
              "                                                  name  ... price\n",
              "81   Generic False Eyelashes Set 5 Pairs Styles 3D ...  ...   329\n",
              "82   Fashion 12Pcs Makeup Brushes Set With Free Org...  ...   687\n",
              "83   Fashion 10 Pcs Makeup Brushes Cosmetics Tools ...  ...   879\n",
              "84   Generic Reusable Natural Magnetic False Eyelas...  ...   699\n",
              "85   Fashion Makeup Sponge Beauty Blender Foundatio...  ...   359\n",
              "99   Generic Make Up Brushes 7 Pcs / Make Up Brush Set  ...   350\n",
              "114  Fashion 10 Pcs Makeup Brushes Set & Free Beaut...  ...   879\n",
              "130  Nova New Rechargeable Hair Shaver And Beard Tr...  ...   664\n",
              "171  Makeup Setting Spray Snail Gel 99% Make Up Fix...  ...   400\n",
              "\n",
              "[9 rows x 7 columns]"
            ]
          },
          "metadata": {
            "tags": []
          },
          "execution_count": 42
        }
      ]
    },
    {
      "cell_type": "code",
      "metadata": {
        "colab": {
          "base_uri": "https://localhost:8080/",
          "height": 589
        },
        "id": "ah9tVJLzrMH2",
        "outputId": "df07388b-4f10-459f-9c68-911563d5399f"
      },
      "source": [
        "prod4 = product[product.reviews<5]\n",
        "prod4"
      ],
      "execution_count": 57,
      "outputs": [
        {
          "output_type": "execute_result",
          "data": {
            "text/html": [
              "<div>\n",
              "<style scoped>\n",
              "    .dataframe tbody tr th:only-of-type {\n",
              "        vertical-align: middle;\n",
              "    }\n",
              "\n",
              "    .dataframe tbody tr th {\n",
              "        vertical-align: top;\n",
              "    }\n",
              "\n",
              "    .dataframe thead th {\n",
              "        text-align: right;\n",
              "    }\n",
              "</style>\n",
              "<table border=\"1\" class=\"dataframe\">\n",
              "  <thead>\n",
              "    <tr style=\"text-align: right;\">\n",
              "      <th></th>\n",
              "      <th>name</th>\n",
              "      <th>brand</th>\n",
              "      <th>ratingScore</th>\n",
              "      <th>rating</th>\n",
              "      <th>reviews</th>\n",
              "      <th>reviews - Copy</th>\n",
              "      <th>price</th>\n",
              "    </tr>\n",
              "  </thead>\n",
              "  <tbody>\n",
              "    <tr>\n",
              "      <th>0</th>\n",
              "      <td>Generic Fashion 10Pcs Professional Makeup Brus...</td>\n",
              "      <td>Generic</td>\n",
              "      <td>0.0</td>\n",
              "      <td>0 out of 5</td>\n",
              "      <td>0</td>\n",
              "      <td>(No ratings available)</td>\n",
              "      <td>840</td>\n",
              "    </tr>\n",
              "    <tr>\n",
              "      <th>1</th>\n",
              "      <td>Generic Fashion 12Pcs Makeup Brushes Foundatio...</td>\n",
              "      <td>Generic</td>\n",
              "      <td>0.0</td>\n",
              "      <td>0 out of 5</td>\n",
              "      <td>0</td>\n",
              "      <td>(No ratings available)</td>\n",
              "      <td>640</td>\n",
              "    </tr>\n",
              "    <tr>\n",
              "      <th>2</th>\n",
              "      <td>Brush Double Sided Flat Angled Brush With Spoo...</td>\n",
              "      <td>Brush</td>\n",
              "      <td>0.0</td>\n",
              "      <td>0 out of 5</td>\n",
              "      <td>0</td>\n",
              "      <td>(No ratings available)</td>\n",
              "      <td>223</td>\n",
              "    </tr>\n",
              "    <tr>\n",
              "      <th>3</th>\n",
              "      <td>Generic 5 Pairs False Eyelashes Mixed Style &amp; ...</td>\n",
              "      <td>Generic</td>\n",
              "      <td>0.0</td>\n",
              "      <td>0 out of 5</td>\n",
              "      <td>0</td>\n",
              "      <td>(No ratings available)</td>\n",
              "      <td>429</td>\n",
              "    </tr>\n",
              "    <tr>\n",
              "      <th>4</th>\n",
              "      <td>Estee Lauder Perfectly Clean TripleAction Clea...</td>\n",
              "      <td>Estee Lauder</td>\n",
              "      <td>0.0</td>\n",
              "      <td>0 out of 5</td>\n",
              "      <td>0</td>\n",
              "      <td>(No ratings available)</td>\n",
              "      <td>5200</td>\n",
              "    </tr>\n",
              "    <tr>\n",
              "      <th>...</th>\n",
              "      <td>...</td>\n",
              "      <td>...</td>\n",
              "      <td>...</td>\n",
              "      <td>...</td>\n",
              "      <td>...</td>\n",
              "      <td>...</td>\n",
              "      <td>...</td>\n",
              "    </tr>\n",
              "    <tr>\n",
              "      <th>194</th>\n",
              "      <td>Fashion Cosmetic Bag Cosmetic Holder Lipstick ...</td>\n",
              "      <td>Fashion</td>\n",
              "      <td>4.8</td>\n",
              "      <td>4.8 out of 5</td>\n",
              "      <td>4</td>\n",
              "      <td>(4 ratings)</td>\n",
              "      <td>699</td>\n",
              "    </tr>\n",
              "    <tr>\n",
              "      <th>195</th>\n",
              "      <td>Generic Make Up Brush  Pcs With Metal Box-NAKED 3</td>\n",
              "      <td>Generic</td>\n",
              "      <td>3.0</td>\n",
              "      <td>3 out of 5</td>\n",
              "      <td>1</td>\n",
              "      <td>(1 rating)</td>\n",
              "      <td>587</td>\n",
              "    </tr>\n",
              "    <tr>\n",
              "      <th>196</th>\n",
              "      <td>Generic Makeup bag  Women Bags Men Large Water...</td>\n",
              "      <td>Generic</td>\n",
              "      <td>5.0</td>\n",
              "      <td>5 out of 5</td>\n",
              "      <td>1</td>\n",
              "      <td>(1 rating)</td>\n",
              "      <td>1754</td>\n",
              "    </tr>\n",
              "    <tr>\n",
              "      <th>197</th>\n",
              "      <td>Generic 22*18*8cm Waterproof Travel Cosmetic Bags</td>\n",
              "      <td>Generic</td>\n",
              "      <td>4.0</td>\n",
              "      <td>4 out of 5</td>\n",
              "      <td>1</td>\n",
              "      <td>(1 rating)</td>\n",
              "      <td>720</td>\n",
              "    </tr>\n",
              "    <tr>\n",
              "      <th>199</th>\n",
              "      <td>Generic Waterproof Zipper Coin Purse And Cute ...</td>\n",
              "      <td>Generic</td>\n",
              "      <td>5.0</td>\n",
              "      <td>5 out of 5</td>\n",
              "      <td>1</td>\n",
              "      <td>(1 rating)</td>\n",
              "      <td>509</td>\n",
              "    </tr>\n",
              "  </tbody>\n",
              "</table>\n",
              "<p>137 rows × 7 columns</p>\n",
              "</div>"
            ],
            "text/plain": [
              "                                                  name  ... price\n",
              "0    Generic Fashion 10Pcs Professional Makeup Brus...  ...   840\n",
              "1    Generic Fashion 12Pcs Makeup Brushes Foundatio...  ...   640\n",
              "2    Brush Double Sided Flat Angled Brush With Spoo...  ...   223\n",
              "3    Generic 5 Pairs False Eyelashes Mixed Style & ...  ...   429\n",
              "4    Estee Lauder Perfectly Clean TripleAction Clea...  ...  5200\n",
              "..                                                 ...  ...   ...\n",
              "194  Fashion Cosmetic Bag Cosmetic Holder Lipstick ...  ...   699\n",
              "195  Generic Make Up Brush  Pcs With Metal Box-NAKED 3  ...   587\n",
              "196  Generic Makeup bag  Women Bags Men Large Water...  ...  1754\n",
              "197  Generic 22*18*8cm Waterproof Travel Cosmetic Bags  ...   720\n",
              "199  Generic Waterproof Zipper Coin Purse And Cute ...  ...   509\n",
              "\n",
              "[137 rows x 7 columns]"
            ]
          },
          "metadata": {
            "tags": []
          },
          "execution_count": 57
        }
      ]
    },
    {
      "cell_type": "code",
      "metadata": {
        "colab": {
          "base_uri": "https://localhost:8080/",
          "height": 306
        },
        "id": "oo_wHm88qczS",
        "outputId": "d0b008d6-5c1b-40ed-8903-68a2deca8788"
      },
      "source": [
        "# Render vertical bar chart: NB - height\n",
        "plt.bar(prod3['brand'], height = prod3['reviews'], color='lightblue')\n",
        "\n",
        "# Tweak and Label\n",
        "plt.xticks(rotation = 45)\n",
        "plt.ylabel('reviews')\n",
        "plt.title('Brands with the highest reviews')\n",
        "\n",
        "# Display\n",
        "plt.show()"
      ],
      "execution_count": 44,
      "outputs": [
        {
          "output_type": "display_data",
          "data": {
            "image/png": "[encoded data removed]",
            "text/plain": [
              "<Figure size 432x288 with 1 Axes>"
            ]
          },
          "metadata": {
            "tags": [],
            "needs_background": "light"
          }
        }
      ]
    },
    {
      "cell_type": "code",
      "metadata": {
        "colab": {
          "base_uri": "https://localhost:8080/",
          "height": 349
        },
        "id": "GTOvTPydrlG6",
        "outputId": "17230e08-15a7-4c67-e82e-e1307056a336"
      },
      "source": [
        "# Render vertical bar chart: NB - height\n",
        "plt.bar(prod4['brand'], height = prod4['reviews'], color='orange')\n",
        "\n",
        "# Tweak and Label\n",
        "plt.xticks(rotation = 95)\n",
        "plt.ylabel('reviews')\n",
        "plt.title('Brands with the lowest reviews')\n",
        "\n",
        "# Display\n",
        "plt.show()"
      ],
      "execution_count": 59,
      "outputs": [
        {
          "output_type": "display_data",
          "data": {
            "image/png": "[encoded data removed]",
            "text/plain": [
              "<Figure size 432x288 with 1 Axes>"
            ]
          },
          "metadata": {
            "tags": [],
            "needs_background": "light"
          }
        }
      ]
    },
    {
      "cell_type": "markdown",
      "metadata": {
        "id": "2jsT-UrqsxRG"
      },
      "source": [
        "\n",
        "\n",
        "1.   Brands with high reviews (45 reviews and above) Generic,Fashion,Nova and Makeup\n",
        "2.   Brands with low reviews( no review at all) Eye, Miniso, Beauty Blender, Neutrogena, Eye, Brush\n",
        "\n"
      ]
    },
    {
      "cell_type": "code",
      "metadata": {
        "colab": {
          "base_uri": "https://localhost:8080/",
          "height": 354
        },
        "id": "6GrqGo3et14k",
        "outputId": "6ac70c4a-70c0-4437-9f1a-116bfe6a464d"
      },
      "source": [
        "prod5 = product[product.reviews>50]\n",
        "prod5"
      ],
      "execution_count": 65,
      "outputs": [
        {
          "output_type": "execute_result",
          "data": {
            "text/html": [
              "<div>\n",
              "<style scoped>\n",
              "    .dataframe tbody tr th:only-of-type {\n",
              "        vertical-align: middle;\n",
              "    }\n",
              "\n",
              "    .dataframe tbody tr th {\n",
              "        vertical-align: top;\n",
              "    }\n",
              "\n",
              "    .dataframe thead th {\n",
              "        text-align: right;\n",
              "    }\n",
              "</style>\n",
              "<table border=\"1\" class=\"dataframe\">\n",
              "  <thead>\n",
              "    <tr style=\"text-align: right;\">\n",
              "      <th></th>\n",
              "      <th>name</th>\n",
              "      <th>brand</th>\n",
              "      <th>ratingScore</th>\n",
              "      <th>rating</th>\n",
              "      <th>reviews</th>\n",
              "      <th>reviews - Copy</th>\n",
              "      <th>price</th>\n",
              "    </tr>\n",
              "  </thead>\n",
              "  <tbody>\n",
              "    <tr>\n",
              "      <th>81</th>\n",
              "      <td>Generic False Eyelashes Set 5 Pairs Styles 3D ...</td>\n",
              "      <td>Generic</td>\n",
              "      <td>4.6</td>\n",
              "      <td>4.6 out of 5</td>\n",
              "      <td>71</td>\n",
              "      <td>(71 ratings)</td>\n",
              "      <td>329</td>\n",
              "    </tr>\n",
              "    <tr>\n",
              "      <th>82</th>\n",
              "      <td>Fashion 12Pcs Makeup Brushes Set With Free Org...</td>\n",
              "      <td>Fashion</td>\n",
              "      <td>4.3</td>\n",
              "      <td>4.3 out of 5</td>\n",
              "      <td>324</td>\n",
              "      <td>(324 ratings)</td>\n",
              "      <td>687</td>\n",
              "    </tr>\n",
              "    <tr>\n",
              "      <th>83</th>\n",
              "      <td>Fashion 10 Pcs Makeup Brushes Cosmetics Tools ...</td>\n",
              "      <td>Fashion</td>\n",
              "      <td>4.5</td>\n",
              "      <td>4.5 out of 5</td>\n",
              "      <td>101</td>\n",
              "      <td>(101 ratings)</td>\n",
              "      <td>879</td>\n",
              "    </tr>\n",
              "    <tr>\n",
              "      <th>85</th>\n",
              "      <td>Fashion Makeup Sponge Beauty Blender Foundatio...</td>\n",
              "      <td>Fashion</td>\n",
              "      <td>4.7</td>\n",
              "      <td>4.7 out of 5</td>\n",
              "      <td>172</td>\n",
              "      <td>(172 ratings)</td>\n",
              "      <td>359</td>\n",
              "    </tr>\n",
              "    <tr>\n",
              "      <th>114</th>\n",
              "      <td>Fashion 10 Pcs Makeup Brushes Set &amp; Free Beaut...</td>\n",
              "      <td>Fashion</td>\n",
              "      <td>4.3</td>\n",
              "      <td>4.3 out of 5</td>\n",
              "      <td>51</td>\n",
              "      <td>(51 ratings)</td>\n",
              "      <td>879</td>\n",
              "    </tr>\n",
              "    <tr>\n",
              "      <th>130</th>\n",
              "      <td>Nova New Rechargeable Hair Shaver And Beard Tr...</td>\n",
              "      <td>Nova</td>\n",
              "      <td>4.1</td>\n",
              "      <td>4.1 out of 5</td>\n",
              "      <td>126</td>\n",
              "      <td>(126 ratings)</td>\n",
              "      <td>664</td>\n",
              "    </tr>\n",
              "  </tbody>\n",
              "</table>\n",
              "</div>"
            ],
            "text/plain": [
              "                                                  name  ... price\n",
              "81   Generic False Eyelashes Set 5 Pairs Styles 3D ...  ...   329\n",
              "82   Fashion 12Pcs Makeup Brushes Set With Free Org...  ...   687\n",
              "83   Fashion 10 Pcs Makeup Brushes Cosmetics Tools ...  ...   879\n",
              "85   Fashion Makeup Sponge Beauty Blender Foundatio...  ...   359\n",
              "114  Fashion 10 Pcs Makeup Brushes Set & Free Beaut...  ...   879\n",
              "130  Nova New Rechargeable Hair Shaver And Beard Tr...  ...   664\n",
              "\n",
              "[6 rows x 7 columns]"
            ]
          },
          "metadata": {
            "tags": []
          },
          "execution_count": 65
        }
      ]
    },
    {
      "cell_type": "code",
      "metadata": {
        "colab": {
          "base_uri": "https://localhost:8080/",
          "height": 343
        },
        "id": "B_tE7kLxtdew",
        "outputId": "3252a321-4048-4e51-bb61-1ae22455c3e2"
      },
      "source": [
        "colors = ['blue','pink','#99ff99','orange','grey','purple']\n",
        "\n",
        "# Render\n",
        "plt.figure(figsize=(8, 5))\n",
        "plt.pie(prod5['reviews'], labels = prod5['name'], colors=colors, autopct='%.0f%%', explode=(0, 0.1,0,0,0,0))\n",
        "\n",
        "# Tweak & Label\n",
        "plt.title('make up products with the highest reviews', fontdict= {'fontname': 'Serif', 'fontsize': 18})  \n",
        "\n",
        "# Display\n",
        "plt.show() "
      ],
      "execution_count": 72,
      "outputs": [
        {
          "output_type": "display_data",
          "data": {
            "image/png": "[encoded data removed]",
            "text/plain": [
              "<Figure size 576x360 with 1 Axes>"
            ]
          },
          "metadata": {
            "tags": []
          }
        }
      ]
    },
    {
      "cell_type": "markdown",
      "metadata": {
        "id": "hGtFB40qwM32"
      },
      "source": [
        "\n",
        "\n",
        "*   Highest review product \"Fashion 12pcs makeup brushes set with free organizer bag\" - including a free gift could lead customers to purchase your product and in turn earn you a good rating\n",
        "*   Most products with the highest reviews have a free gift included & others comes as a complimentary of the product\n",
        "\n",
        "\n"
      ]
    }
  ]
}